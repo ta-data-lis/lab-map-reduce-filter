{
  "nbformat": 4,
  "nbformat_minor": 0,
  "metadata": {
    "colab": {
      "name": "lambdas.ipynb",
      "provenance": [],
      "collapsed_sections": []
    },
    "kernelspec": {
      "name": "python3",
      "display_name": "Python 3"
    }
  },
  "cells": [
    {
      "cell_type": "code",
      "metadata": {
        "id": "nOYV5jnqzy_J"
      },
      "source": [
        "# You can be a perfectly excellent coder in python without knowing what lambda functions are\n",
        "# All that we will learn today can be coded with other python constructs which we have learnt\n",
        "\n",
        "# a lambda function is an anonymous ephemeral function -> they don't have a name, they are defined one time, used one time, and then they \"die\"\n",
        "\n",
        "# why lambda functions?\n",
        "\n",
        "# ephemeral / readable - no need to take developer mind space by explicitly creating a \"real function\"\n",
        "# standards - enforces tasks are modularized into little subtasks\n",
        "# functional programming - will not enter too deeply into this, but it is a life changer\n",
        "# Interviews - pet of interviewer questions and \"clever\" coders\n"
      ],
      "execution_count": null,
      "outputs": []
    },
    {
      "cell_type": "code",
      "metadata": {
        "id": "DX_wDZfN1nc7"
      },
      "source": [
        "# this is a real function that I can call as many times as it want, in different files, whenever I need\n",
        "def square(x):\n",
        "  return x**2"
      ],
      "execution_count": null,
      "outputs": []
    },
    {
      "cell_type": "code",
      "metadata": {
        "id": "Qq_-Plf91rLU",
        "colab": {
          "base_uri": "https://localhost:8080/"
        },
        "outputId": "dfd90cbe-0143-4303-c173-48b8aeb6936c"
      },
      "source": [
        "square(4)"
      ],
      "execution_count": null,
      "outputs": [
        {
          "output_type": "execute_result",
          "data": {
            "text/plain": [
              "16"
            ]
          },
          "metadata": {},
          "execution_count": 3
        }
      ]
    },
    {
      "cell_type": "code",
      "metadata": {
        "id": "6cVdmTmV1vvd",
        "colab": {
          "base_uri": "https://localhost:8080/"
        },
        "outputId": "515886a3-fb58-48b0-c369-7354b0938998"
      },
      "source": [
        "# how to do the same in a lambda function?\n",
        "# lambda input(s) : output\n",
        "lambda x : x**2\n",
        "# currently this is useless"
      ],
      "execution_count": null,
      "outputs": [
        {
          "output_type": "execute_result",
          "data": {
            "text/plain": [
              "<function __main__.<lambda>>"
            ]
          },
          "metadata": {},
          "execution_count": 4
        }
      ]
    },
    {
      "cell_type": "code",
      "metadata": {
        "id": "1XZrQrEh2H67",
        "colab": {
          "base_uri": "https://localhost:8080/"
        },
        "outputId": "ee64214f-7e30-4321-8765-fa8c9557b50a"
      },
      "source": [
        "# but it does work as a function\n",
        "(lambda x : x**2)(4)"
      ],
      "execution_count": null,
      "outputs": [
        {
          "output_type": "execute_result",
          "data": {
            "text/plain": [
              "16"
            ]
          },
          "metadata": {},
          "execution_count": 5
        }
      ]
    },
    {
      "cell_type": "code",
      "metadata": {
        "id": "MSLsJ4I72nJj",
        "colab": {
          "base_uri": "https://localhost:8080/"
        },
        "outputId": "088bc8b1-4d63-41e5-e97f-e6e75201ce81"
      },
      "source": [
        "# they can have multiple arguments \n",
        "#lambda x,y : x**y\n",
        "(lambda x,y : x**y)(3,2)"
      ],
      "execution_count": null,
      "outputs": [
        {
          "output_type": "execute_result",
          "data": {
            "text/plain": [
              "9"
            ]
          },
          "metadata": {},
          "execution_count": 34
        }
      ]
    },
    {
      "cell_type": "code",
      "metadata": {
        "id": "6oRFVktu-tIJ",
        "colab": {
          "base_uri": "https://localhost:8080/"
        },
        "outputId": "16795c55-1474-4c94-f1c1-1b951f5ed6ed"
      },
      "source": [
        "# and they can be named, if necessary\n",
        "power = (lambda x,y : x**y)\n",
        "power(2,3)"
      ],
      "execution_count": null,
      "outputs": [
        {
          "output_type": "execute_result",
          "data": {
            "text/plain": [
              "8"
            ]
          },
          "metadata": {},
          "execution_count": 6
        }
      ]
    },
    {
      "cell_type": "code",
      "metadata": {
        "id": "cAgEjJ3WAW-y",
        "colab": {
          "base_uri": "https://localhost:8080/"
        },
        "outputId": "4d345576-1b07-4f0b-e1ea-0d7a8db688e8"
      },
      "source": [
        "# lambda expressions have to be very simple. No flow control logic, no loops, etc\n",
        "# the one concession to this is a single if-then-else with the following sintax\n",
        "\n",
        "lambda a,b : a+b if a%2 == 0 else a-b\n",
        "\n",
        "(lambda a,b : a+b if a%2 == 0 else a-b)(3,2)"
      ],
      "execution_count": null,
      "outputs": [
        {
          "output_type": "execute_result",
          "data": {
            "text/plain": [
              "1"
            ]
          },
          "metadata": {},
          "execution_count": 7
        }
      ]
    },
    {
      "cell_type": "markdown",
      "metadata": {
        "id": "THeErzmsBq5i"
      },
      "source": [
        "**What the hell are these things used for?**"
      ]
    },
    {
      "cell_type": "markdown",
      "metadata": {
        "id": "fsnbWpUqB_iX"
      },
      "source": [
        "Case 1: as pure functions"
      ]
    },
    {
      "cell_type": "code",
      "metadata": {
        "id": "C_9ipoY0CHDI",
        "colab": {
          "base_uri": "https://localhost:8080/",
          "height": 51
        },
        "outputId": "e82ae7c6-2394-4a18-b050-eb06d5349693"
      },
      "source": [
        "# They allow us to do something called currying : creating a partial function from another one by fixing some arguments \n",
        "\n",
        "power = (lambda x,y : x**y)\n",
        "\n",
        "power_2 = lambda z: power(2,z)\n",
        "square = lambda z: power(z,2)\n",
        "\n",
        "display(power_2(3))\n",
        "display(square(3))"
      ],
      "execution_count": null,
      "outputs": [
        {
          "output_type": "display_data",
          "data": {
            "text/plain": [
              "8"
            ]
          },
          "metadata": {}
        },
        {
          "output_type": "display_data",
          "data": {
            "text/plain": [
              "9"
            ]
          },
          "metadata": {}
        }
      ]
    },
    {
      "cell_type": "code",
      "metadata": {
        "id": "--uIQWCXiMa_"
      },
      "source": [
        "#myapply = lambda x : apply(x,axis=0)"
      ],
      "execution_count": null,
      "outputs": []
    },
    {
      "cell_type": "code",
      "metadata": {
        "id": "-l7U6kQSCHGH",
        "colab": {
          "base_uri": "https://localhost:8080/"
        },
        "outputId": "42553496-2167-4bdf-83ed-3693d35f3ecd"
      },
      "source": [
        "# They also allow us to define functions that return other functions\n",
        "# the server produces the following function and sends it to me\n",
        "\n",
        "# seems pretty basic. However Lambda functions are most used when combined with other functions\n",
        "def myfunc(n):\n",
        "  return lambda a : a * n\n",
        "\n",
        "#here our lambda functions is changing its use depending on argument passed\n",
        "doubles = myfunc(2)\n",
        "triples = myfunc(3)\n",
        "\n",
        "print(doubles(11))\n",
        "print(triples(11))"
      ],
      "execution_count": null,
      "outputs": [
        {
          "output_type": "stream",
          "name": "stdout",
          "text": [
            "22\n",
            "33\n"
          ]
        }
      ]
    },
    {
      "cell_type": "code",
      "metadata": {
        "id": "L2UJ_JjWo2Bz"
      },
      "source": [
        "def check_secret_shared(key1):\n",
        "  return lambda key2 : (key1==key2)"
      ],
      "execution_count": null,
      "outputs": []
    },
    {
      "cell_type": "code",
      "metadata": {
        "id": "RRrn26E6Dk7H"
      },
      "source": [
        "# I run this function in my machine and give it my secret, I then send it to Fred (I don't know the details of the function)\n",
        "comit = check_secret_shared('mango')"
      ],
      "execution_count": null,
      "outputs": []
    },
    {
      "cell_type": "code",
      "metadata": {
        "id": "v-uS4p72DYvq",
        "colab": {
          "base_uri": "https://localhost:8080/"
        },
        "outputId": "cf51e4ac-d260-4796-ad63-41dc9d41d41d"
      },
      "source": [
        "# José adds his own answer and we see if we agreed without revealing information\n",
        "comit('mango')"
      ],
      "execution_count": null,
      "outputs": [
        {
          "output_type": "execute_result",
          "data": {
            "text/plain": [
              "True"
            ]
          },
          "metadata": {},
          "execution_count": 15
        }
      ]
    },
    {
      "cell_type": "code",
      "metadata": {
        "id": "8PsbL8V3IFhA"
      },
      "source": [
        ""
      ],
      "execution_count": null,
      "outputs": []
    },
    {
      "cell_type": "markdown",
      "metadata": {
        "id": "VgRLYTifFAQa"
      },
      "source": [
        "Case 2: as shorthand in larger functions"
      ]
    },
    {
      "cell_type": "code",
      "metadata": {
        "id": "y-tS3XkG2Qp9",
        "colab": {
          "base_uri": "https://localhost:8080/"
        },
        "outputId": "47f17fd4-f7a5-4f3c-dd89-b758d13f855e"
      },
      "source": [
        "# lambda functions are useful when combined with iterables -> list comprehension\n",
        "\n",
        "# you can define the function symbolically and then apply it\n",
        "g = lambda x : x**2\n",
        "\n",
        "[g(x) for x in range(0,10)]\n",
        "\n",
        "# or \n",
        "\n",
        "[(lambda x:x**2)(x) for x in range(0,10)]\n",
        "\n",
        "#no need to create a \"square\" function if this is the only place using it"
      ],
      "execution_count": null,
      "outputs": [
        {
          "output_type": "execute_result",
          "data": {
            "text/plain": [
              "[0, 1, 4, 9, 16, 25, 36, 49, 64, 81]"
            ]
          },
          "metadata": {},
          "execution_count": 16
        }
      ]
    },
    {
      "cell_type": "code",
      "metadata": {
        "id": "rh3TWZF-8AOs"
      },
      "source": [
        "# Map, filter and apply\n",
        "# Care to check yesterday's class?"
      ],
      "execution_count": null,
      "outputs": []
    },
    {
      "cell_type": "code",
      "metadata": {
        "id": "ti60OSxx9CsF",
        "colab": {
          "base_uri": "https://localhost:8080/"
        },
        "outputId": "647f432c-18c9-4c2f-e687-cab1138e9ab4"
      },
      "source": [
        "#map(function, iterable) applies 'function' to each element of 'iterable'\n",
        "\n",
        "map(lambda x:x**2,[1,2,3,4,5])\n",
        "\n",
        "# whenever you use the map method, it returns a crazy map object\n",
        "# this is actually a feature. \n",
        "# Note to self: ramble about lazy computation if you have time"
      ],
      "execution_count": null,
      "outputs": [
        {
          "output_type": "execute_result",
          "data": {
            "text/plain": [
              "<map at 0x7f42cc02bbd0>"
            ]
          },
          "metadata": {},
          "execution_count": 14
        }
      ]
    },
    {
      "cell_type": "code",
      "metadata": {
        "id": "AykJmQnr9HHY",
        "colab": {
          "base_uri": "https://localhost:8080/"
        },
        "outputId": "3b37ad9c-51d5-4fdb-b796-23e146c8dc7b"
      },
      "source": [
        "#you can force map object to become explicit by converting them to lists\n",
        "list(map(lambda x:x**2,[1,2,3,4,5]))"
      ],
      "execution_count": null,
      "outputs": [
        {
          "output_type": "execute_result",
          "data": {
            "text/plain": [
              "[1, 4, 9, 16, 25]"
            ]
          },
          "metadata": {},
          "execution_count": 17
        }
      ]
    },
    {
      "cell_type": "code",
      "metadata": {
        "id": "PX05Au4Q_bGO",
        "colab": {
          "base_uri": "https://localhost:8080/"
        },
        "outputId": "d7ce1eda-d46f-4c75-98cc-fc5ae37d2898"
      },
      "source": [
        "# the map would only apply the function to each one and return true or false\n",
        "list(map(lambda x : x%2 ==0, [1,2,3,4,5,6,7,8]))"
      ],
      "execution_count": null,
      "outputs": [
        {
          "output_type": "execute_result",
          "data": {
            "text/plain": [
              "[False, True, False, True, False, True, False, True]"
            ]
          },
          "metadata": {},
          "execution_count": 18
        }
      ]
    },
    {
      "cell_type": "code",
      "metadata": {
        "id": "fKmqF3gy-P3_",
        "colab": {
          "base_uri": "https://localhost:8080/"
        },
        "outputId": "750bef37-b135-4492-f0ec-c0dbbc2e076f"
      },
      "source": [
        "# filter(function, iterable). Similar to the logic of a map function but it applies a condition.\n",
        "# And returns the original objects for which the function returned True\n",
        "list(filter(lambda x : x%2 ==0, [1,2,3,4,5,6,7,8]))"
      ],
      "execution_count": null,
      "outputs": [
        {
          "output_type": "execute_result",
          "data": {
            "text/plain": [
              "[2, 4, 6, 8]"
            ]
          },
          "metadata": {},
          "execution_count": 19
        }
      ]
    },
    {
      "cell_type": "code",
      "metadata": {
        "colab": {
          "base_uri": "https://localhost:8080/"
        },
        "id": "1Eli0SSwrggI",
        "outputId": "b20a307e-fcad-4d35-ff4c-2a85ea4da8d8"
      },
      "source": [
        "#challenge: let's write a function and a filter that takes a word and returns only the vowels\n",
        "\n",
        "def check_letter(letter):\n",
        "  if letter in [\"a\",\"e\",\"i\",\"o\",\"u\"]:\n",
        "    return True\n",
        "  else:\n",
        "    return False\n",
        "\n",
        "\n",
        "\n",
        "list(filter(check_letter,[char for char in \"hello\"]  ))\n",
        "\n",
        "list(filter(lambda x: x in [\"a\",\"e\",\"i\",\"o\",\"u\"] , \"hello\"))\n",
        "\n"
      ],
      "execution_count": null,
      "outputs": [
        {
          "output_type": "execute_result",
          "data": {
            "text/plain": [
              "['e', 'o']"
            ]
          },
          "metadata": {},
          "execution_count": 29
        }
      ]
    },
    {
      "cell_type": "code",
      "metadata": {
        "colab": {
          "base_uri": "https://localhost:8080/"
        },
        "id": "pXzB0BBwrw50",
        "outputId": "edbbd60f-0fff-4b16-876e-3883af093f50"
      },
      "source": [
        "# explain reduce\n",
        "\n",
        "# but many times we want to create our own type of aggregation like sum, max min etc. this can be down with reduce\n",
        "\n",
        "from  functools import reduce\n",
        "\n",
        "l = [1,2,3,4,5]\n",
        "\n",
        "#reduce(aggregation to apply, list)\n",
        "\n",
        "reduce(lambda a, b: a * b,l)\n",
        "\n",
        "#now we know a new way to build the factorial function :)"
      ],
      "execution_count": null,
      "outputs": [
        {
          "output_type": "execute_result",
          "data": {
            "text/plain": [
              "120"
            ]
          },
          "metadata": {},
          "execution_count": 23
        }
      ]
    },
    {
      "cell_type": "code",
      "metadata": {
        "colab": {
          "base_uri": "https://localhost:8080/"
        },
        "id": "O4cygB1jrxnv",
        "outputId": "0867e126-e4d9-4388-f55a-39b48304ecb2"
      },
      "source": [
        "# but many times we want to create our own type of aggregation like sum, max min etc. this can be down with reduce\n",
        "\n",
        "#aggregate by counting number of odds\n",
        "#when combining all these functions is when the true power is shown.\n",
        "\n",
        "from  functools import reduce\n",
        "\n",
        "l = [1,2,3,4,5]\n",
        "reduce(lambda a, b: a + b, list(filter(lambda x: x%2 != 0, l)))"
      ],
      "execution_count": null,
      "outputs": [
        {
          "output_type": "execute_result",
          "data": {
            "text/plain": [
              "9"
            ]
          },
          "metadata": {},
          "execution_count": 24
        }
      ]
    },
    {
      "cell_type": "code",
      "metadata": {
        "id": "Ih0Kk1eZ_5fs"
      },
      "source": [
        "import pandas as pd\n",
        "import numpy as np"
      ],
      "execution_count": null,
      "outputs": []
    },
    {
      "cell_type": "code",
      "metadata": {
        "id": "ujQSKqstASBh"
      },
      "source": [
        "data = pd.read_csv('sample_data/california_housing_test.csv')"
      ],
      "execution_count": null,
      "outputs": []
    },
    {
      "cell_type": "code",
      "metadata": {
        "id": "UEERJoJaAWHL",
        "colab": {
          "base_uri": "https://localhost:8080/",
          "height": 204
        },
        "outputId": "1c90ce8d-5268-4d81-f074-e3f76b741097"
      },
      "source": [
        "data.head()"
      ],
      "execution_count": null,
      "outputs": [
        {
          "output_type": "execute_result",
          "data": {
            "text/html": [
              "<div>\n",
              "<style scoped>\n",
              "    .dataframe tbody tr th:only-of-type {\n",
              "        vertical-align: middle;\n",
              "    }\n",
              "\n",
              "    .dataframe tbody tr th {\n",
              "        vertical-align: top;\n",
              "    }\n",
              "\n",
              "    .dataframe thead th {\n",
              "        text-align: right;\n",
              "    }\n",
              "</style>\n",
              "<table border=\"1\" class=\"dataframe\">\n",
              "  <thead>\n",
              "    <tr style=\"text-align: right;\">\n",
              "      <th></th>\n",
              "      <th>longitude</th>\n",
              "      <th>latitude</th>\n",
              "      <th>housing_median_age</th>\n",
              "      <th>total_rooms</th>\n",
              "      <th>total_bedrooms</th>\n",
              "      <th>population</th>\n",
              "      <th>households</th>\n",
              "      <th>median_income</th>\n",
              "      <th>median_house_value</th>\n",
              "    </tr>\n",
              "  </thead>\n",
              "  <tbody>\n",
              "    <tr>\n",
              "      <th>0</th>\n",
              "      <td>-122.05</td>\n",
              "      <td>37.37</td>\n",
              "      <td>27.0</td>\n",
              "      <td>3885.0</td>\n",
              "      <td>661.0</td>\n",
              "      <td>1537.0</td>\n",
              "      <td>606.0</td>\n",
              "      <td>6.6085</td>\n",
              "      <td>344700.0</td>\n",
              "    </tr>\n",
              "    <tr>\n",
              "      <th>1</th>\n",
              "      <td>-118.30</td>\n",
              "      <td>34.26</td>\n",
              "      <td>43.0</td>\n",
              "      <td>1510.0</td>\n",
              "      <td>310.0</td>\n",
              "      <td>809.0</td>\n",
              "      <td>277.0</td>\n",
              "      <td>3.5990</td>\n",
              "      <td>176500.0</td>\n",
              "    </tr>\n",
              "    <tr>\n",
              "      <th>2</th>\n",
              "      <td>-117.81</td>\n",
              "      <td>33.78</td>\n",
              "      <td>27.0</td>\n",
              "      <td>3589.0</td>\n",
              "      <td>507.0</td>\n",
              "      <td>1484.0</td>\n",
              "      <td>495.0</td>\n",
              "      <td>5.7934</td>\n",
              "      <td>270500.0</td>\n",
              "    </tr>\n",
              "    <tr>\n",
              "      <th>3</th>\n",
              "      <td>-118.36</td>\n",
              "      <td>33.82</td>\n",
              "      <td>28.0</td>\n",
              "      <td>67.0</td>\n",
              "      <td>15.0</td>\n",
              "      <td>49.0</td>\n",
              "      <td>11.0</td>\n",
              "      <td>6.1359</td>\n",
              "      <td>330000.0</td>\n",
              "    </tr>\n",
              "    <tr>\n",
              "      <th>4</th>\n",
              "      <td>-119.67</td>\n",
              "      <td>36.33</td>\n",
              "      <td>19.0</td>\n",
              "      <td>1241.0</td>\n",
              "      <td>244.0</td>\n",
              "      <td>850.0</td>\n",
              "      <td>237.0</td>\n",
              "      <td>2.9375</td>\n",
              "      <td>81700.0</td>\n",
              "    </tr>\n",
              "  </tbody>\n",
              "</table>\n",
              "</div>"
            ],
            "text/plain": [
              "   longitude  latitude  ...  median_income  median_house_value\n",
              "0    -122.05     37.37  ...         6.6085            344700.0\n",
              "1    -118.30     34.26  ...         3.5990            176500.0\n",
              "2    -117.81     33.78  ...         5.7934            270500.0\n",
              "3    -118.36     33.82  ...         6.1359            330000.0\n",
              "4    -119.67     36.33  ...         2.9375             81700.0\n",
              "\n",
              "[5 rows x 9 columns]"
            ]
          },
          "metadata": {},
          "execution_count": 27
        }
      ]
    },
    {
      "cell_type": "code",
      "metadata": {
        "id": "gSXizXx3AW5w",
        "colab": {
          "base_uri": "https://localhost:8080/"
        },
        "outputId": "ead4aaea-1c28-4c4d-b684-d8c47f836b84"
      },
      "source": [
        "# the most common case of lambdas in my experience, \n",
        "\n",
        "# for example: we want to see how much older are the houses that have more that 20 years \n",
        "data['housing_median_age'].apply(lambda x: x-20 if x>20 else np.nan)"
      ],
      "execution_count": null,
      "outputs": [
        {
          "output_type": "execute_result",
          "data": {
            "text/plain": [
              "0        7.0\n",
              "1       23.0\n",
              "2        7.0\n",
              "3        8.0\n",
              "4        NaN\n",
              "        ... \n",
              "2995     3.0\n",
              "2996     7.0\n",
              "2997     NaN\n",
              "2998    20.0\n",
              "2999    22.0\n",
              "Name: housing_median_age, Length: 3000, dtype: float64"
            ]
          },
          "metadata": {},
          "execution_count": 28
        }
      ]
    },
    {
      "cell_type": "code",
      "metadata": {
        "id": "6xkia2OzQUPn",
        "colab": {
          "base_uri": "https://localhost:8080/"
        },
        "outputId": "7961bf99-24ad-4249-ed03-ad8b8162fae8"
      },
      "source": [
        "# let's say we want to know how far each point is from a imaginary point imagine coordinates(-110, 30)\n",
        "# euclidean distance\n",
        "\n",
        "data.apply(lambda x: np.sqrt((x['latitude']-30)**2+(x['longitude']+110)**2),axis=1)"
      ],
      "execution_count": null,
      "outputs": [
        {
          "output_type": "execute_result",
          "data": {
            "text/plain": [
              "0       14.125134\n",
              "1        9.329394\n",
              "2        8.676664\n",
              "3        9.191409\n",
              "4       11.557586\n",
              "          ...    \n",
              "2995    10.805369\n",
              "2996     9.096329\n",
              "2997    11.566330\n",
              "2998     8.216106\n",
              "2999    10.595910\n",
              "Length: 3000, dtype: float64"
            ]
          },
          "metadata": {},
          "execution_count": 26
        }
      ]
    },
    {
      "cell_type": "code",
      "metadata": {
        "id": "OKUtSDF5JU5t"
      },
      "source": [
        ""
      ],
      "execution_count": null,
      "outputs": []
    }
  ]
}